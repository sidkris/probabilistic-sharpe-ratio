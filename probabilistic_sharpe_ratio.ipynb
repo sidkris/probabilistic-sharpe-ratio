{
  "nbformat": 4,
  "nbformat_minor": 0,
  "metadata": {
    "colab": {
      "name": "probabilistic_sharpe_ratio.ipynb",
      "provenance": [],
      "collapsed_sections": []
    },
    "kernelspec": {
      "name": "python3",
      "display_name": "Python 3"
    },
    "language_info": {
      "name": "python"
    }
  },
  "cells": [
    {
      "cell_type": "markdown",
      "source": [
        "The Probabilistic Sharpe Ratio (PSR) takes into account the kurtosis and skewness of returns, in addition to just the mean and standard deviation. In practical terms, this helps in scertaining confidence bands and statistical significance of the Sharpe Ratio itself, and express it in probablistic terms as the name implies (eg: a 95% chnace of Sharpe Ratio being 1.5)\n",
        "\n",
        "Formula:\n",
        "\n",
        "Given :-  \n",
        "\n",
        "  - a predefined benchmark Sharpe Ratio (SR*) {this can be set to zero}\n",
        "  - an estimated Sharpe Ratio (SRˆ)\n",
        "\n",
        "The PSR can be expressed in probabilistic terms as:\n",
        "\n",
        "PSR(SR*) = Prob[SR <= SRˆ]\n",
        "\n",
        "\n",
        "----------\n",
        "THIS CAN BE RE-WRITTEN AS:\n",
        "\n",
        "PSR(SR*) = Z[(SR^- SR*) / sigmaˆ(SRˆ)]\n",
        "\n",
        "WHERE:\n",
        "\n",
        " - The above function is a cumulative distribution function (CDF)\n",
        " - Z is the CDF of the standard normal distribution"
      ],
      "metadata": {
        "id": "ukY3VVv4WasR"
      }
    },
    {
      "cell_type": "code",
      "execution_count": 14,
      "metadata": {
        "id": "EAr_tqByVgTq"
      },
      "outputs": [],
      "source": [
        "import pandas as pd\n",
        "import scipy.stats as ss\n",
        "apple = pd.read_csv(r\"/content/drive/MyDrive/AAPL.csv\", index_col = \"Date\", parse_dates = True)"
      ]
    },
    {
      "cell_type": "code",
      "source": [
        "apple[\"daily returns\"] = apple[\"Adj Close\"].pct_change()\n",
        "apple = apple.dropna()"
      ],
      "metadata": {
        "id": "n07Gw4AjV-s0"
      },
      "execution_count": 15,
      "outputs": []
    },
    {
      "cell_type": "code",
      "source": [
        "apple.head()"
      ],
      "metadata": {
        "colab": {
          "base_uri": "https://localhost:8080/",
          "height": 235
        },
        "id": "aRKoUCVJWM0R",
        "outputId": "6d875bb9-a1e9-4bd0-94f0-6f2368505407"
      },
      "execution_count": 16,
      "outputs": [
        {
          "output_type": "execute_result",
          "data": {
            "text/html": [
              "\n",
              "  <div id=\"df-e550c261-f55f-489d-a117-d4ef62f64c8a\">\n",
              "    <div class=\"colab-df-container\">\n",
              "      <div>\n",
              "<style scoped>\n",
              "    .dataframe tbody tr th:only-of-type {\n",
              "        vertical-align: middle;\n",
              "    }\n",
              "\n",
              "    .dataframe tbody tr th {\n",
              "        vertical-align: top;\n",
              "    }\n",
              "\n",
              "    .dataframe thead th {\n",
              "        text-align: right;\n",
              "    }\n",
              "</style>\n",
              "<table border=\"1\" class=\"dataframe\">\n",
              "  <thead>\n",
              "    <tr style=\"text-align: right;\">\n",
              "      <th></th>\n",
              "      <th>Open</th>\n",
              "      <th>High</th>\n",
              "      <th>Low</th>\n",
              "      <th>Close</th>\n",
              "      <th>Adj Close</th>\n",
              "      <th>Volume</th>\n",
              "      <th>daily returns</th>\n",
              "    </tr>\n",
              "    <tr>\n",
              "      <th>Date</th>\n",
              "      <th></th>\n",
              "      <th></th>\n",
              "      <th></th>\n",
              "      <th></th>\n",
              "      <th></th>\n",
              "      <th></th>\n",
              "      <th></th>\n",
              "    </tr>\n",
              "  </thead>\n",
              "  <tbody>\n",
              "    <tr>\n",
              "      <th>2016-09-07</th>\n",
              "      <td>26.957500</td>\n",
              "      <td>27.190001</td>\n",
              "      <td>26.767500</td>\n",
              "      <td>27.090000</td>\n",
              "      <td>25.406099</td>\n",
              "      <td>169457200</td>\n",
              "      <td>0.006128</td>\n",
              "    </tr>\n",
              "    <tr>\n",
              "      <th>2016-09-08</th>\n",
              "      <td>26.812500</td>\n",
              "      <td>26.817499</td>\n",
              "      <td>26.309999</td>\n",
              "      <td>26.379999</td>\n",
              "      <td>24.740232</td>\n",
              "      <td>212008000</td>\n",
              "      <td>-0.026209</td>\n",
              "    </tr>\n",
              "    <tr>\n",
              "      <th>2016-09-09</th>\n",
              "      <td>26.160000</td>\n",
              "      <td>26.430000</td>\n",
              "      <td>25.782499</td>\n",
              "      <td>25.782499</td>\n",
              "      <td>24.179869</td>\n",
              "      <td>186228000</td>\n",
              "      <td>-0.022650</td>\n",
              "    </tr>\n",
              "    <tr>\n",
              "      <th>2016-09-12</th>\n",
              "      <td>25.662500</td>\n",
              "      <td>26.430000</td>\n",
              "      <td>25.632500</td>\n",
              "      <td>26.360001</td>\n",
              "      <td>24.721476</td>\n",
              "      <td>181171200</td>\n",
              "      <td>0.022399</td>\n",
              "    </tr>\n",
              "    <tr>\n",
              "      <th>2016-09-13</th>\n",
              "      <td>26.877501</td>\n",
              "      <td>27.197500</td>\n",
              "      <td>26.809999</td>\n",
              "      <td>26.987499</td>\n",
              "      <td>25.309967</td>\n",
              "      <td>248704800</td>\n",
              "      <td>0.023805</td>\n",
              "    </tr>\n",
              "  </tbody>\n",
              "</table>\n",
              "</div>\n",
              "      <button class=\"colab-df-convert\" onclick=\"convertToInteractive('df-e550c261-f55f-489d-a117-d4ef62f64c8a')\"\n",
              "              title=\"Convert this dataframe to an interactive table.\"\n",
              "              style=\"display:none;\">\n",
              "        \n",
              "  <svg xmlns=\"http://www.w3.org/2000/svg\" height=\"24px\"viewBox=\"0 0 24 24\"\n",
              "       width=\"24px\">\n",
              "    <path d=\"M0 0h24v24H0V0z\" fill=\"none\"/>\n",
              "    <path d=\"M18.56 5.44l.94 2.06.94-2.06 2.06-.94-2.06-.94-.94-2.06-.94 2.06-2.06.94zm-11 1L8.5 8.5l.94-2.06 2.06-.94-2.06-.94L8.5 2.5l-.94 2.06-2.06.94zm10 10l.94 2.06.94-2.06 2.06-.94-2.06-.94-.94-2.06-.94 2.06-2.06.94z\"/><path d=\"M17.41 7.96l-1.37-1.37c-.4-.4-.92-.59-1.43-.59-.52 0-1.04.2-1.43.59L10.3 9.45l-7.72 7.72c-.78.78-.78 2.05 0 2.83L4 21.41c.39.39.9.59 1.41.59.51 0 1.02-.2 1.41-.59l7.78-7.78 2.81-2.81c.8-.78.8-2.07 0-2.86zM5.41 20L4 18.59l7.72-7.72 1.47 1.35L5.41 20z\"/>\n",
              "  </svg>\n",
              "      </button>\n",
              "      \n",
              "  <style>\n",
              "    .colab-df-container {\n",
              "      display:flex;\n",
              "      flex-wrap:wrap;\n",
              "      gap: 12px;\n",
              "    }\n",
              "\n",
              "    .colab-df-convert {\n",
              "      background-color: #E8F0FE;\n",
              "      border: none;\n",
              "      border-radius: 50%;\n",
              "      cursor: pointer;\n",
              "      display: none;\n",
              "      fill: #1967D2;\n",
              "      height: 32px;\n",
              "      padding: 0 0 0 0;\n",
              "      width: 32px;\n",
              "    }\n",
              "\n",
              "    .colab-df-convert:hover {\n",
              "      background-color: #E2EBFA;\n",
              "      box-shadow: 0px 1px 2px rgba(60, 64, 67, 0.3), 0px 1px 3px 1px rgba(60, 64, 67, 0.15);\n",
              "      fill: #174EA6;\n",
              "    }\n",
              "\n",
              "    [theme=dark] .colab-df-convert {\n",
              "      background-color: #3B4455;\n",
              "      fill: #D2E3FC;\n",
              "    }\n",
              "\n",
              "    [theme=dark] .colab-df-convert:hover {\n",
              "      background-color: #434B5C;\n",
              "      box-shadow: 0px 1px 3px 1px rgba(0, 0, 0, 0.15);\n",
              "      filter: drop-shadow(0px 1px 2px rgba(0, 0, 0, 0.3));\n",
              "      fill: #FFFFFF;\n",
              "    }\n",
              "  </style>\n",
              "\n",
              "      <script>\n",
              "        const buttonEl =\n",
              "          document.querySelector('#df-e550c261-f55f-489d-a117-d4ef62f64c8a button.colab-df-convert');\n",
              "        buttonEl.style.display =\n",
              "          google.colab.kernel.accessAllowed ? 'block' : 'none';\n",
              "\n",
              "        async function convertToInteractive(key) {\n",
              "          const element = document.querySelector('#df-e550c261-f55f-489d-a117-d4ef62f64c8a');\n",
              "          const dataTable =\n",
              "            await google.colab.kernel.invokeFunction('convertToInteractive',\n",
              "                                                     [key], {});\n",
              "          if (!dataTable) return;\n",
              "\n",
              "          const docLinkHtml = 'Like what you see? Visit the ' +\n",
              "            '<a target=\"_blank\" href=https://colab.research.google.com/notebooks/data_table.ipynb>data table notebook</a>'\n",
              "            + ' to learn more about interactive tables.';\n",
              "          element.innerHTML = '';\n",
              "          dataTable['output_type'] = 'display_data';\n",
              "          await google.colab.output.renderOutput(dataTable, element);\n",
              "          const docLink = document.createElement('div');\n",
              "          docLink.innerHTML = docLinkHtml;\n",
              "          element.appendChild(docLink);\n",
              "        }\n",
              "      </script>\n",
              "    </div>\n",
              "  </div>\n",
              "  "
            ],
            "text/plain": [
              "                 Open       High  ...     Volume  daily returns\n",
              "Date                              ...                          \n",
              "2016-09-07  26.957500  27.190001  ...  169457200       0.006128\n",
              "2016-09-08  26.812500  26.817499  ...  212008000      -0.026209\n",
              "2016-09-09  26.160000  26.430000  ...  186228000      -0.022650\n",
              "2016-09-12  25.662500  26.430000  ...  181171200       0.022399\n",
              "2016-09-13  26.877501  27.197500  ...  248704800       0.023805\n",
              "\n",
              "[5 rows x 7 columns]"
            ]
          },
          "metadata": {},
          "execution_count": 16
        }
      ]
    },
    {
      "cell_type": "code",
      "source": [
        "def calc_daily_sharpe_ratio(df, rf_rate = 0):\n",
        "  \n",
        "  mean_return = df[\"daily returns\"].mean()\n",
        "  std_returns = df[\"daily returns\"].std()\n",
        "\n",
        "  sharpe_ratio = (mean_return - rf_rate) / std_returns\n",
        "  sharpe_ratio *= 252**0.5\n",
        "  \n",
        "  return sharpe_ratio"
      ],
      "metadata": {
        "id": "a-579yDfWOTh"
      },
      "execution_count": 35,
      "outputs": []
    },
    {
      "cell_type": "code",
      "source": [
        "calc_sharpe_ratio(apple)"
      ],
      "metadata": {
        "colab": {
          "base_uri": "https://localhost:8080/"
        },
        "id": "sTRfULGCaXdo",
        "outputId": "450f1b80-6322-47f4-c9aa-01e63cfe29f1"
      },
      "execution_count": 36,
      "outputs": [
        {
          "output_type": "execute_result",
          "data": {
            "text/plain": [
              "1.3494385329110765"
            ]
          },
          "metadata": {},
          "execution_count": 36
        }
      ]
    },
    {
      "cell_type": "code",
      "source": [
        "def calc_PSR(df, benchmark_sr = 0):\n",
        "\n",
        "  sr = calc_sharpe_ratio(df)\n",
        "  skew = ss.skew(df[\"daily returns\"])\n",
        "  kurtosis = ss.kurtosis(df[\"daily returns\"], fisher = True)\n",
        "\n",
        "  n = len(df)\n",
        "\n",
        "  sigma_sr = ((1/(n-1)) * (1 + 0.5*sr**2 + skew*sr+(kurtosis/4)*sr**2))**0.5\n",
        "\n",
        "  ratio = (sr - benchmark_sr) / sigma_sr\n",
        "  psr = ss.norm.cdf(ratio)\n",
        "  annual_psr = psr * (252**0.5)\n",
        "\n",
        "  print(f\"PSR : {psr}\")\n",
        "\n",
        "  return psr\n"
      ],
      "metadata": {
        "id": "Ky9DdE0habjJ"
      },
      "execution_count": 41,
      "outputs": []
    },
    {
      "cell_type": "code",
      "source": [
        "calc_PSR(apple)"
      ],
      "metadata": {
        "colab": {
          "base_uri": "https://localhost:8080/"
        },
        "id": "3vFv00b-bH0-",
        "outputId": "8da86897-af34-40d4-9063-341458b09c33"
      },
      "execution_count": 42,
      "outputs": [
        {
          "output_type": "stream",
          "name": "stdout",
          "text": [
            "PSR : 1.0\n"
          ]
        },
        {
          "output_type": "execute_result",
          "data": {
            "text/plain": [
              "1.0"
            ]
          },
          "metadata": {},
          "execution_count": 42
        }
      ]
    },
    {
      "cell_type": "code",
      "source": [
        ""
      ],
      "metadata": {
        "id": "Pqo9MjshcerZ"
      },
      "execution_count": null,
      "outputs": []
    }
  ]
}